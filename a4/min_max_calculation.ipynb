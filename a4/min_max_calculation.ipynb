{
 "cells": [
  {
   "cell_type": "code",
   "execution_count": 4,
   "id": "ef0bdfc1-a557-4fba-9dff-e09163d92426",
   "metadata": {},
   "outputs": [
    {
     "name": "stdout",
     "output_type": "stream",
     "text": [
      "Index(['fixed acidity', 'volatile acidity', 'citric acid', 'residual sugar',\n",
      "       'chlorides', 'free sulfur dioxide', 'total sulfur dioxide', 'density',\n",
      "       'pH', 'sulphates', 'alcohol', 'quality'],\n",
      "      dtype='object')\n"
     ]
    }
   ],
   "source": [
    "import pandas as pd\n",
    "\n",
    "df = pd.read_csv('winequality-white.csv', delimiter = \";\")\n",
    "print(df.columns)"
   ]
  },
  {
   "cell_type": "code",
   "execution_count": 7,
   "id": "7519eea2-b625-453b-a375-e9e15e220d23",
   "metadata": {},
   "outputs": [
    {
     "name": "stdout",
     "output_type": "stream",
     "text": [
      "14.2\n",
      "1.1\n",
      "1.66\n",
      "65.8\n",
      "0.346\n",
      "289.0\n",
      "440.0\n",
      "1.03898\n",
      "3.82\n",
      "1.08\n",
      "14.2\n",
      "9\n"
     ]
    }
   ],
   "source": [
    "#max calculation\n",
    "print(df['fixed acidity'].max())\n",
    "print(df['volatile acidity'].max())\n",
    "print(df['citric acid'].max())\n",
    "print(df['residual sugar'].max())\n",
    "print(df['chlorides'].max())\n",
    "print(df['free sulfur dioxide'].max())\n",
    "print(df['total sulfur dioxide'].max())\n",
    "print(df['density'].max())\n",
    "print(df['pH'].max())\n",
    "print(df['sulphates'].max())\n",
    "print(df['alcohol'].max())\n",
    "print(df['quality'].max())"
   ]
  },
  {
   "cell_type": "code",
   "execution_count": 8,
   "id": "e2fa1138-fefa-4221-914a-619176398ae3",
   "metadata": {},
   "outputs": [
    {
     "name": "stdout",
     "output_type": "stream",
     "text": [
      "3.8\n",
      "0.08\n",
      "0.0\n",
      "0.6\n",
      "0.009\n",
      "2.0\n",
      "9.0\n",
      "0.98711\n",
      "2.72\n",
      "0.22\n",
      "8.0\n",
      "3\n"
     ]
    }
   ],
   "source": [
    "#min calculation\n",
    "print(df['fixed acidity'].min())\n",
    "print(df['volatile acidity'].min())\n",
    "print(df['citric acid'].min())\n",
    "print(df['residual sugar'].min())\n",
    "print(df['chlorides'].min())\n",
    "print(df['free sulfur dioxide'].min())\n",
    "print(df['total sulfur dioxide'].min())\n",
    "print(df['density'].min())\n",
    "print(df['pH'].min())\n",
    "print(df['sulphates'].min())\n",
    "print(df['alcohol'].min())\n",
    "print(df['quality'].min())"
   ]
  }
 ],
 "metadata": {
  "kernelspec": {
   "display_name": "Python 3 (ipykernel)",
   "language": "python",
   "name": "python3"
  },
  "language_info": {
   "codemirror_mode": {
    "name": "ipython",
    "version": 3
   },
   "file_extension": ".py",
   "mimetype": "text/x-python",
   "name": "python",
   "nbconvert_exporter": "python",
   "pygments_lexer": "ipython3",
   "version": "3.11.7"
  }
 },
 "nbformat": 4,
 "nbformat_minor": 5
}
