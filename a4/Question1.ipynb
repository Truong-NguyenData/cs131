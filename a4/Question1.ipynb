{
 "cells": [
  {
   "cell_type": "code",
   "execution_count": 2,
   "id": "98881be6-ce77-48cb-824f-708708880670",
   "metadata": {},
   "outputs": [],
   "source": [
    "import pandas as pd"
   ]
  },
  {
   "cell_type": "code",
   "execution_count": 8,
   "id": "10ad5ecb-6f76-41ec-a88a-8180f2d518f7",
   "metadata": {},
   "outputs": [
    {
     "name": "stdout",
     "output_type": "stream",
     "text": [
      "fixed acidity             6.854788\n",
      "volatile acidity          0.278241\n",
      "citric acid               0.334192\n",
      "residual sugar            6.391415\n",
      "chlorides                 0.045772\n",
      "free sulfur dioxide      35.308085\n",
      "total sulfur dioxide    138.360657\n",
      "density                   0.994027\n",
      "pH                        3.188267\n",
      "sulphates                 0.489847\n",
      "alcohol                  10.514267\n",
      "quality                   5.877909\n",
      "dtype: float64\n"
     ]
    }
   ],
   "source": [
    "df = pd.read_csv('winequality-white.csv', delimiter=';')\n",
    "\n",
    "#mean\n",
    "print(df.mean())"
   ]
  },
  {
   "cell_type": "code",
   "execution_count": 10,
   "id": "8d4ed239-f6e3-46b8-b638-11e55d15e207",
   "metadata": {},
   "outputs": [
    {
     "name": "stdout",
     "output_type": "stream",
     "text": [
      "fixed acidity            0.843868\n",
      "volatile acidity         0.100795\n",
      "citric acid              0.121020\n",
      "residual sugar           5.072058\n",
      "chlorides                0.021848\n",
      "free sulfur dioxide     17.007137\n",
      "total sulfur dioxide    42.498065\n",
      "density                  0.002991\n",
      "pH                       0.151001\n",
      "sulphates                0.114126\n",
      "alcohol                  1.230621\n",
      "quality                  0.885639\n",
      "dtype: float64\n"
     ]
    }
   ],
   "source": [
    "#standar deviation\n",
    "print(df.std())"
   ]
  },
  {
   "cell_type": "code",
   "execution_count": 9,
   "id": "771c6372-668c-4944-af34-749968b10288",
   "metadata": {},
   "outputs": [
    {
     "name": "stdout",
     "output_type": "stream",
     "text": [
      "fixed acidity            14.20000\n",
      "volatile acidity          1.10000\n",
      "citric acid               1.66000\n",
      "residual sugar           65.80000\n",
      "chlorides                 0.34600\n",
      "free sulfur dioxide     289.00000\n",
      "total sulfur dioxide    440.00000\n",
      "density                   1.03898\n",
      "pH                        3.82000\n",
      "sulphates                 1.08000\n",
      "alcohol                  14.20000\n",
      "quality                   9.00000\n",
      "dtype: float64\n"
     ]
    }
   ],
   "source": [
    "#max\n",
    "print(df.max())"
   ]
  },
  {
   "cell_type": "code",
   "execution_count": 11,
   "id": "ee6b4b07-5582-4284-a943-1ab8a72fa8fe",
   "metadata": {},
   "outputs": [
    {
     "name": "stdout",
     "output_type": "stream",
     "text": [
      "fixed acidity           3.80000\n",
      "volatile acidity        0.08000\n",
      "citric acid             0.00000\n",
      "residual sugar          0.60000\n",
      "chlorides               0.00900\n",
      "free sulfur dioxide     2.00000\n",
      "total sulfur dioxide    9.00000\n",
      "density                 0.98711\n",
      "pH                      2.72000\n",
      "sulphates               0.22000\n",
      "alcohol                 8.00000\n",
      "quality                 3.00000\n",
      "dtype: float64\n"
     ]
    }
   ],
   "source": [
    "#min\n",
    "print(df.min())"
   ]
  },
  {
   "cell_type": "code",
   "execution_count": 16,
   "id": "ce40937a-2f26-4d75-8040-49a7c5601d52",
   "metadata": {},
   "outputs": [
    {
     "name": "stdout",
     "output_type": "stream",
     "text": [
      "fixed acidity             6.300000\n",
      "volatile acidity          0.210000\n",
      "citric acid               0.270000\n",
      "residual sugar            1.700000\n",
      "chlorides                 0.036000\n",
      "free sulfur dioxide      23.000000\n",
      "total sulfur dioxide    108.000000\n",
      "density                   0.991723\n",
      "pH                        3.090000\n",
      "sulphates                 0.410000\n",
      "alcohol                   9.500000\n",
      "quality                   5.000000\n",
      "Name: 0.25, dtype: float64\n"
     ]
    }
   ],
   "source": [
    "#25% percentiles\n",
    "print(df.quantile(0.25))"
   ]
  },
  {
   "cell_type": "code",
   "execution_count": 18,
   "id": "79a635fc-4258-4b96-9ab1-4bc5aed865f4",
   "metadata": {},
   "outputs": [
    {
     "name": "stdout",
     "output_type": "stream",
     "text": [
      "fixed acidity             6.80000\n",
      "volatile acidity          0.26000\n",
      "citric acid               0.32000\n",
      "residual sugar            5.20000\n",
      "chlorides                 0.04300\n",
      "free sulfur dioxide      34.00000\n",
      "total sulfur dioxide    134.00000\n",
      "density                   0.99374\n",
      "pH                        3.18000\n",
      "sulphates                 0.47000\n",
      "alcohol                  10.40000\n",
      "quality                   6.00000\n",
      "Name: 0.5, dtype: float64\n"
     ]
    }
   ],
   "source": [
    "#50% percentiles\n",
    "print(df.quantile(0.50))"
   ]
  },
  {
   "cell_type": "code",
   "execution_count": 19,
   "id": "3f9c35c5-53ec-4875-b763-e639ecb01459",
   "metadata": {},
   "outputs": [
    {
     "name": "stdout",
     "output_type": "stream",
     "text": [
      "fixed acidity             7.3000\n",
      "volatile acidity          0.3200\n",
      "citric acid               0.3900\n",
      "residual sugar            9.9000\n",
      "chlorides                 0.0500\n",
      "free sulfur dioxide      46.0000\n",
      "total sulfur dioxide    167.0000\n",
      "density                   0.9961\n",
      "pH                        3.2800\n",
      "sulphates                 0.5500\n",
      "alcohol                  11.4000\n",
      "quality                   6.0000\n",
      "Name: 0.75, dtype: float64\n"
     ]
    }
   ],
   "source": [
    "#75 percentiles\n",
    "print(df.quantile(0.75))"
   ]
  }
 ],
 "metadata": {
  "kernelspec": {
   "display_name": "Python 3 (ipykernel)",
   "language": "python",
   "name": "python3"
  },
  "language_info": {
   "codemirror_mode": {
    "name": "ipython",
    "version": 3
   },
   "file_extension": ".py",
   "mimetype": "text/x-python",
   "name": "python",
   "nbconvert_exporter": "python",
   "pygments_lexer": "ipython3",
   "version": "3.11.7"
  }
 },
 "nbformat": 4,
 "nbformat_minor": 5
}
