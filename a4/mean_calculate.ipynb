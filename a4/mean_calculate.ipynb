{
 "cells": [
  {
   "cell_type": "code",
   "execution_count": 6,
   "id": "69318695-5a9d-4f4b-bc40-15dfb67972a3",
   "metadata": {},
   "outputs": [],
   "source": [
    "import pandas as pd"
   ]
  },
  {
   "cell_type": "code",
   "execution_count": 12,
   "id": "f38ee576-504b-49a6-9cb6-2abfb5ce834c",
   "metadata": {},
   "outputs": [
    {
     "name": "stdout",
     "output_type": "stream",
     "text": [
      "6.854787668436097\n"
     ]
    }
   ],
   "source": [
    "print(df['fixed acidity'].mean())"
   ]
  },
  {
   "cell_type": "code",
   "execution_count": 10,
   "id": "281bd0b1-5606-47fd-9843-cca4d07f5c58",
   "metadata": {},
   "outputs": [
    {
     "name": "stdout",
     "output_type": "stream",
     "text": [
      "      fixed acidity  volatile acidity  citric acid  residual sugar  chlorides  \\\n",
      "0               7.0              0.27         0.36            20.7      0.045   \n",
      "1               6.3              0.30         0.34             1.6      0.049   \n",
      "2               8.1              0.28         0.40             6.9      0.050   \n",
      "3               7.2              0.23         0.32             8.5      0.058   \n",
      "4               7.2              0.23         0.32             8.5      0.058   \n",
      "...             ...               ...          ...             ...        ...   \n",
      "4893            6.2              0.21         0.29             1.6      0.039   \n",
      "4894            6.6              0.32         0.36             8.0      0.047   \n",
      "4895            6.5              0.24         0.19             1.2      0.041   \n",
      "4896            5.5              0.29         0.30             1.1      0.022   \n",
      "4897            6.0              0.21         0.38             0.8      0.020   \n",
      "\n",
      "      free sulfur dioxide  total sulfur dioxide  density    pH  sulphates  \\\n",
      "0                    45.0                 170.0  1.00100  3.00       0.45   \n",
      "1                    14.0                 132.0  0.99400  3.30       0.49   \n",
      "2                    30.0                  97.0  0.99510  3.26       0.44   \n",
      "3                    47.0                 186.0  0.99560  3.19       0.40   \n",
      "4                    47.0                 186.0  0.99560  3.19       0.40   \n",
      "...                   ...                   ...      ...   ...        ...   \n",
      "4893                 24.0                  92.0  0.99114  3.27       0.50   \n",
      "4894                 57.0                 168.0  0.99490  3.15       0.46   \n",
      "4895                 30.0                 111.0  0.99254  2.99       0.46   \n",
      "4896                 20.0                 110.0  0.98869  3.34       0.38   \n",
      "4897                 22.0                  98.0  0.98941  3.26       0.32   \n",
      "\n",
      "      alcohol  quality  \n",
      "0         8.8        6  \n",
      "1         9.5        6  \n",
      "2        10.1        6  \n",
      "3         9.9        6  \n",
      "4         9.9        6  \n",
      "...       ...      ...  \n",
      "4893     11.2        6  \n",
      "4894      9.6        5  \n",
      "4895      9.4        6  \n",
      "4896     12.8        7  \n",
      "4897     11.8        6  \n",
      "\n",
      "[4898 rows x 12 columns]\n"
     ]
    }
   ],
   "source": [
    "#use delimiter=\";\" to seperate each column by ;\n",
    "df = pd.read_csv('winequality-white.csv', delimiter=';')\n",
    "\n",
    "print(df)"
   ]
  },
  {
   "cell_type": "code",
   "execution_count": 34,
   "id": "7745469c-7974-4a88-9b6c-c644a282483f",
   "metadata": {},
   "outputs": [
    {
     "name": "stdout",
     "output_type": "stream",
     "text": [
      "6.854787668436097\n"
     ]
    }
   ],
   "source": [
    "print(df['fixed acidity'].mean())"
   ]
  },
  {
   "cell_type": "code",
   "execution_count": 13,
   "id": "142183ee-a0d7-4ef6-9388-8687c7de7dda",
   "metadata": {},
   "outputs": [
    {
     "name": "stdout",
     "output_type": "stream",
     "text": [
      "0.27824111882400976\n"
     ]
    }
   ],
   "source": [
    "print(df['volatile acidity'].mean())"
   ]
  },
  {
   "cell_type": "code",
   "execution_count": 14,
   "id": "efec54b6-236d-429c-a9d0-f24bfbd33caa",
   "metadata": {},
   "outputs": [
    {
     "name": "stdout",
     "output_type": "stream",
     "text": [
      "0.33419150673744386\n"
     ]
    }
   ],
   "source": [
    "print(df['citric acid'].mean())"
   ]
  },
  {
   "cell_type": "code",
   "execution_count": 15,
   "id": "ff3ddaf3-ea49-426a-9288-c516e48aa8d9",
   "metadata": {},
   "outputs": [
    {
     "name": "stdout",
     "output_type": "stream",
     "text": [
      "6.391414863209474\n"
     ]
    }
   ],
   "source": [
    "print(df['residual sugar'].mean())"
   ]
  },
  {
   "cell_type": "code",
   "execution_count": 24,
   "id": "57d45395-6dcb-46e2-9920-30a449c80fb5",
   "metadata": {},
   "outputs": [
    {
     "name": "stdout",
     "output_type": "stream",
     "text": [
      "0.04577235606369946\n"
     ]
    }
   ],
   "source": [
    "print(df['chlorides'].mean())"
   ]
  },
  {
   "cell_type": "code",
   "execution_count": 25,
   "id": "bb21b1ea-8c1d-40ab-9c04-580db0364fb8",
   "metadata": {},
   "outputs": [
    {
     "name": "stdout",
     "output_type": "stream",
     "text": [
      "35.30808493262556\n"
     ]
    }
   ],
   "source": [
    "print(df['free sulfur dioxide'].mean())"
   ]
  },
  {
   "cell_type": "code",
   "execution_count": 26,
   "id": "47d0d46e-6191-45ba-b020-a01980849199",
   "metadata": {},
   "outputs": [
    {
     "name": "stdout",
     "output_type": "stream",
     "text": [
      "138.36065741118824\n"
     ]
    }
   ],
   "source": [
    "print(df['total sulfur dioxide'].mean())"
   ]
  },
  {
   "cell_type": "code",
   "execution_count": 27,
   "id": "e2657f2c-a5fb-46d9-8602-9208d068bed9",
   "metadata": {},
   "outputs": [
    {
     "name": "stdout",
     "output_type": "stream",
     "text": [
      "0.9940273764801959\n"
     ]
    }
   ],
   "source": [
    "print(df['density'].mean())"
   ]
  },
  {
   "cell_type": "code",
   "execution_count": 29,
   "id": "5848d44c-d938-4ad6-9fb8-201aab1547c2",
   "metadata": {},
   "outputs": [
    {
     "name": "stdout",
     "output_type": "stream",
     "text": [
      "3.1882666394446715\n"
     ]
    }
   ],
   "source": [
    "print(df['pH'].mean())"
   ]
  },
  {
   "cell_type": "code",
   "execution_count": 30,
   "id": "1d6568bb-07d3-4511-ba3b-6bd99afdf4af",
   "metadata": {},
   "outputs": [
    {
     "name": "stdout",
     "output_type": "stream",
     "text": [
      "0.48984687627603113\n"
     ]
    }
   ],
   "source": [
    "print(df['sulphates'].mean())"
   ]
  },
  {
   "cell_type": "code",
   "execution_count": 32,
   "id": "5fdedd10-5d47-4cea-8342-ec786beae1b9",
   "metadata": {},
   "outputs": [
    {
     "name": "stdout",
     "output_type": "stream",
     "text": [
      "10.514267047774602\n"
     ]
    }
   ],
   "source": [
    "print(df['alcohol'].mean())"
   ]
  },
  {
   "cell_type": "code",
   "execution_count": 33,
   "id": "d6b87e8c-30d5-44e7-b787-3357d1cc4a2a",
   "metadata": {},
   "outputs": [
    {
     "name": "stdout",
     "output_type": "stream",
     "text": [
      "5.87790935075541\n"
     ]
    }
   ],
   "source": [
    "print(df['quality'].mean())"
   ]
  }
 ],
 "metadata": {
  "kernelspec": {
   "display_name": "Python 3 (ipykernel)",
   "language": "python",
   "name": "python3"
  },
  "language_info": {
   "codemirror_mode": {
    "name": "ipython",
    "version": 3
   },
   "file_extension": ".py",
   "mimetype": "text/x-python",
   "name": "python",
   "nbconvert_exporter": "python",
   "pygments_lexer": "ipython3",
   "version": "3.11.7"
  }
 },
 "nbformat": 4,
 "nbformat_minor": 5
}
