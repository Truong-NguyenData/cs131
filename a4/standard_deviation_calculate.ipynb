{
 "cells": [
  {
   "cell_type": "code",
   "execution_count": 1,
   "id": "9f0a0986-8df5-4454-8f5a-30f09c36dab9",
   "metadata": {},
   "outputs": [],
   "source": [
    "import pandas as pd"
   ]
  },
  {
   "cell_type": "code",
   "execution_count": 5,
   "id": "76b299c5-833a-48fc-b0e6-6b7c2c054cb1",
   "metadata": {},
   "outputs": [],
   "source": [
    "df = pd.read_csv('winequality-white.csv', delimiter = \";\")"
   ]
  },
  {
   "cell_type": "code",
   "execution_count": 9,
   "id": "f5a9d41e-c8c0-4482-90f6-3d4660e3cd28",
   "metadata": {},
   "outputs": [
    {
     "name": "stdout",
     "output_type": "stream",
     "text": [
      "Index(['fixed acidity', 'volatile acidity', 'citric acid', 'residual sugar',\n",
      "       'chlorides', 'free sulfur dioxide', 'total sulfur dioxide', 'density',\n",
      "       'pH', 'sulphates', 'alcohol', 'quality'],\n",
      "      dtype='object')\n"
     ]
    }
   ],
   "source": [
    "print(df.columns)"
   ]
  },
  {
   "cell_type": "code",
   "execution_count": 10,
   "id": "640c2443-8429-4586-a625-b6e3c35e904e",
   "metadata": {},
   "outputs": [
    {
     "name": "stdout",
     "output_type": "stream",
     "text": [
      "0.8438682276875188\n"
     ]
    }
   ],
   "source": [
    "print(df['fixed acidity'].std())"
   ]
  },
  {
   "cell_type": "code",
   "execution_count": 11,
   "id": "ec87b438-4786-4e6e-87ac-7473457f68a8",
   "metadata": {},
   "outputs": [
    {
     "name": "stdout",
     "output_type": "stream",
     "text": [
      "0.10079454842486428\n"
     ]
    }
   ],
   "source": [
    "print(df['volatile acidity'].std())"
   ]
  },
  {
   "cell_type": "code",
   "execution_count": 14,
   "id": "2297aed7-fdee-4b3f-81dc-a589533eed21",
   "metadata": {},
   "outputs": [
    {
     "name": "stdout",
     "output_type": "stream",
     "text": [
      "0.12101980420298301\n"
     ]
    }
   ],
   "source": [
    "print(df['citric acid'].std())"
   ]
  },
  {
   "cell_type": "code",
   "execution_count": 16,
   "id": "870a9d67-9a5e-4452-8135-b5b4ed77c16c",
   "metadata": {},
   "outputs": [
    {
     "name": "stdout",
     "output_type": "stream",
     "text": [
      "5.072057784014864\n"
     ]
    }
   ],
   "source": [
    "print(df['residual sugar'].std())"
   ]
  },
  {
   "cell_type": "code",
   "execution_count": 17,
   "id": "320f43b9-7b16-47a7-8c29-846d5175d6f0",
   "metadata": {},
   "outputs": [
    {
     "name": "stdout",
     "output_type": "stream",
     "text": [
      "0.02184796809372882\n"
     ]
    }
   ],
   "source": [
    "print(df['chlorides'].std())"
   ]
  },
  {
   "cell_type": "code",
   "execution_count": 19,
   "id": "93d71c52-1077-40d0-af16-f0df67b35bee",
   "metadata": {},
   "outputs": [
    {
     "name": "stdout",
     "output_type": "stream",
     "text": [
      "17.007137325232566\n"
     ]
    }
   ],
   "source": [
    "print(df['free sulfur dioxide'].std())"
   ]
  },
  {
   "cell_type": "code",
   "execution_count": 21,
   "id": "1c952ab6-6eae-42be-b33a-803f1ce216f7",
   "metadata": {},
   "outputs": [
    {
     "name": "stdout",
     "output_type": "stream",
     "text": [
      "42.49806455414294\n"
     ]
    }
   ],
   "source": [
    "print(df['total sulfur dioxide'].std())"
   ]
  },
  {
   "cell_type": "code",
   "execution_count": 22,
   "id": "a6a1e4c7-1232-46ad-8238-22595679325f",
   "metadata": {},
   "outputs": [
    {
     "name": "stdout",
     "output_type": "stream",
     "text": [
      "0.0029909069169369354\n"
     ]
    }
   ],
   "source": [
    "print(df['density'].std())"
   ]
  },
  {
   "cell_type": "code",
   "execution_count": 24,
   "id": "4ad2bb31-2a24-4ff3-ba8e-73b3e5ea8921",
   "metadata": {},
   "outputs": [
    {
     "name": "stdout",
     "output_type": "stream",
     "text": [
      "0.1510005996150667\n"
     ]
    }
   ],
   "source": [
    "print(df['pH'].std())"
   ]
  },
  {
   "cell_type": "code",
   "execution_count": 25,
   "id": "045ad6ad-8b0a-47fe-b3e6-47ac8275598b",
   "metadata": {},
   "outputs": [
    {
     "name": "stdout",
     "output_type": "stream",
     "text": [
      "0.11412583394883138\n"
     ]
    }
   ],
   "source": [
    "print(df['sulphates'].std())"
   ]
  },
  {
   "cell_type": "code",
   "execution_count": 27,
   "id": "c23243f5-2304-47d1-9a19-9d07aed4ae07",
   "metadata": {},
   "outputs": [
    {
     "name": "stdout",
     "output_type": "stream",
     "text": [
      "1.2306205677573183\n"
     ]
    }
   ],
   "source": [
    "print(df['alcohol'].std())"
   ]
  },
  {
   "cell_type": "code",
   "execution_count": 28,
   "id": "462bd7c9-0e75-4453-8c49-11de57961d99",
   "metadata": {},
   "outputs": [
    {
     "name": "stdout",
     "output_type": "stream",
     "text": [
      "0.8856385749678454\n"
     ]
    }
   ],
   "source": [
    "print(df['quality'].std())"
   ]
  }
 ],
 "metadata": {
  "kernelspec": {
   "display_name": "Python 3 (ipykernel)",
   "language": "python",
   "name": "python3"
  },
  "language_info": {
   "codemirror_mode": {
    "name": "ipython",
    "version": 3
   },
   "file_extension": ".py",
   "mimetype": "text/x-python",
   "name": "python",
   "nbconvert_exporter": "python",
   "pygments_lexer": "ipython3",
   "version": "3.11.7"
  }
 },
 "nbformat": 4,
 "nbformat_minor": 5
}
