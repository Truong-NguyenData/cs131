{
 "cells": [
  {
   "cell_type": "code",
   "execution_count": 1,
   "id": "44ea63de-b520-49b0-a47c-360eb5c03746",
   "metadata": {},
   "outputs": [],
   "source": [
    "import pandas as pd\n",
    "\n",
    "df = pd.read_csv('winequality-white.csv', delimiter = \";\")"
   ]
  },
  {
   "cell_type": "code",
   "execution_count": 3,
   "id": "f5cca033-6d28-4752-b1bd-894b71c3d2f0",
   "metadata": {},
   "outputs": [
    {
     "name": "stdout",
     "output_type": "stream",
     "text": [
      "       fixed acidity  volatile acidity  ...      alcohol      quality\n",
      "count    4898.000000       4898.000000  ...  4898.000000  4898.000000\n",
      "mean        6.854788          0.278241  ...    10.514267     5.877909\n",
      "std         0.843868          0.100795  ...     1.230621     0.885639\n",
      "min         3.800000          0.080000  ...     8.000000     3.000000\n",
      "25%         6.300000          0.210000  ...     9.500000     5.000000\n",
      "50%         6.800000          0.260000  ...    10.400000     6.000000\n",
      "75%         7.300000          0.320000  ...    11.400000     6.000000\n",
      "max        14.200000          1.100000  ...    14.200000     9.000000\n",
      "\n",
      "[8 rows x 12 columns]\n",
      "Index(['fixed acidity', 'volatile acidity', 'citric acid', 'residual sugar',\n",
      "       'chlorides', 'free sulfur dioxide', 'total sulfur dioxide', 'density',\n",
      "       'pH', 'sulphates', 'alcohol', 'quality'],\n",
      "      dtype='object')\n"
     ]
    }
   ],
   "source": [
    "print(df.describe())\n",
    "print(df.columns)"
   ]
  },
  {
   "cell_type": "code",
   "execution_count": 9,
   "id": "b8cf5982-54f2-4196-b039-a831f16f59a1",
   "metadata": {
    "scrolled": true
   },
   "outputs": [
    {
     "name": "stdout",
     "output_type": "stream",
     "text": [
      "0.25    6.3\n",
      "Name: fixed acidity, dtype: float64\n",
      "0.25    0.21\n",
      "Name: volatile acidity, dtype: float64\n",
      "0.25    0.27\n",
      "Name: citric acid, dtype: float64\n",
      "0.25    1.7\n",
      "Name: residual sugar, dtype: float64\n",
      "0.25    0.036\n",
      "Name: chlorides, dtype: float64\n",
      "0.25    23.0\n",
      "Name: free sulfur dioxide, dtype: float64\n",
      "0.25    108.0\n",
      "Name: total sulfur dioxide, dtype: float64\n",
      "0.25    0.991723\n",
      "Name: density, dtype: float64\n",
      "0.25    3.09\n",
      "Name: pH, dtype: float64\n",
      "0.25    0.41\n",
      "Name: sulphates, dtype: float64\n",
      "0.25    9.5\n",
      "Name: alcohol, dtype: float64\n",
      "0.25    5.0\n",
      "Name: quality, dtype: float64\n"
     ]
    }
   ],
   "source": [
    "print(df['fixed acidity'].quantile([0.25]))\n",
    "print(df['volatile acidity'].quantile([0.25]))\n",
    "print(df['citric acid'].quantile([0.25]))\n",
    "print(df['residual sugar'].quantile([0.25]))\n",
    "print(df['chlorides'].quantile([0.25]))\n",
    "print(df['free sulfur dioxide'].quantile([0.25]))\n",
    "print(df['total sulfur dioxide'].quantile([0.25]))\n",
    "print(df['density'].quantile([0.25]))\n",
    "print(df['pH'].quantile([0.25]))\n",
    "print(df['sulphates'].quantile([0.25]))\n",
    "print(df['alcohol'].quantile([0.25]))\n",
    "print(df['quality'].quantile([0.25]))"
   ]
  },
  {
   "cell_type": "code",
   "execution_count": 10,
   "id": "325f09a7-e0d7-4751-b20c-68c810624be2",
   "metadata": {
    "scrolled": true
   },
   "outputs": [
    {
     "name": "stdout",
     "output_type": "stream",
     "text": [
      "0.5    6.8\n",
      "Name: fixed acidity, dtype: float64\n",
      "0.5    0.26\n",
      "Name: volatile acidity, dtype: float64\n",
      "0.5    0.32\n",
      "Name: citric acid, dtype: float64\n",
      "0.5    5.2\n",
      "Name: residual sugar, dtype: float64\n",
      "0.5    0.043\n",
      "Name: chlorides, dtype: float64\n",
      "0.5    34.0\n",
      "Name: free sulfur dioxide, dtype: float64\n",
      "0.5    134.0\n",
      "Name: total sulfur dioxide, dtype: float64\n",
      "0.5    0.99374\n",
      "Name: density, dtype: float64\n",
      "0.5    3.18\n",
      "Name: pH, dtype: float64\n",
      "0.5    0.47\n",
      "Name: sulphates, dtype: float64\n",
      "0.5    10.4\n",
      "Name: alcohol, dtype: float64\n",
      "0.5    6.0\n",
      "Name: quality, dtype: float64\n"
     ]
    }
   ],
   "source": [
    "print(df['fixed acidity'].quantile([0.50]))\n",
    "print(df['volatile acidity'].quantile([0.50]))\n",
    "print(df['citric acid'].quantile([0.50]))\n",
    "print(df['residual sugar'].quantile([0.50]))\n",
    "print(df['chlorides'].quantile([0.50]))\n",
    "print(df['free sulfur dioxide'].quantile([0.50]))\n",
    "print(df['total sulfur dioxide'].quantile([0.50]))\n",
    "print(df['density'].quantile([0.50]))\n",
    "print(df['pH'].quantile([0.50]))\n",
    "print(df['sulphates'].quantile([0.50]))\n",
    "print(df['alcohol'].quantile([0.50]))\n",
    "print(df['quality'].quantile([0.50]))"
   ]
  },
  {
   "cell_type": "code",
   "execution_count": 11,
   "id": "b6752e42-2316-47d8-aefa-c7a4a85dc300",
   "metadata": {},
   "outputs": [
    {
     "name": "stdout",
     "output_type": "stream",
     "text": [
      "0.75    7.3\n",
      "Name: fixed acidity, dtype: float64\n",
      "0.75    0.32\n",
      "Name: volatile acidity, dtype: float64\n",
      "0.75    0.39\n",
      "Name: citric acid, dtype: float64\n",
      "0.75    9.9\n",
      "Name: residual sugar, dtype: float64\n",
      "0.5    0.043\n",
      "Name: chlorides, dtype: float64\n",
      "0.75    46.0\n",
      "Name: free sulfur dioxide, dtype: float64\n",
      "0.75    167.0\n",
      "Name: total sulfur dioxide, dtype: float64\n",
      "0.75    0.9961\n",
      "Name: density, dtype: float64\n",
      "0.75    3.28\n",
      "Name: pH, dtype: float64\n",
      "0.75    0.55\n",
      "Name: sulphates, dtype: float64\n",
      "0.75    11.4\n",
      "Name: alcohol, dtype: float64\n",
      "0.75    6.0\n",
      "Name: quality, dtype: float64\n"
     ]
    }
   ],
   "source": [
    "print(df['fixed acidity'].quantile([0.75]))\n",
    "print(df['volatile acidity'].quantile([0.75]))\n",
    "print(df['citric acid'].quantile([0.75]))\n",
    "print(df['residual sugar'].quantile([0.75]))\n",
    "print(df['chlorides'].quantile([0.50]))\n",
    "print(df['free sulfur dioxide'].quantile([0.75]))\n",
    "print(df['total sulfur dioxide'].quantile([0.75]))\n",
    "print(df['density'].quantile([0.75]))\n",
    "print(df['pH'].quantile([0.75]))\n",
    "print(df['sulphates'].quantile([0.75]))\n",
    "print(df['alcohol'].quantile([0.75]))\n",
    "print(df['quality'].quantile([0.75]))"
   ]
  }
 ],
 "metadata": {
  "kernelspec": {
   "display_name": "Python 3 (ipykernel)",
   "language": "python",
   "name": "python3"
  },
  "language_info": {
   "codemirror_mode": {
    "name": "ipython",
    "version": 3
   },
   "file_extension": ".py",
   "mimetype": "text/x-python",
   "name": "python",
   "nbconvert_exporter": "python",
   "pygments_lexer": "ipython3",
   "version": "3.11.7"
  }
 },
 "nbformat": 4,
 "nbformat_minor": 5
}
