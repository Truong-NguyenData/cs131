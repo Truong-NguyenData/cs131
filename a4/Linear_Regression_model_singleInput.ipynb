{
 "cells": [
  {
   "cell_type": "code",
   "execution_count": 52,
   "id": "d59a9a23-ff0b-4336-8a97-ce0a3fa1265a",
   "metadata": {},
   "outputs": [],
   "source": [
    "import pandas as pd\n",
    "import numpy as np\n",
    "import seaborn as sns\n",
    "from sklearn.metrics import r2_score, mean_squared_error\n",
    "from sklearn.linear_model import LinearRegression\n",
    "from sklearn import preprocessing\n",
    "import matplotlib.pyplot as plt"
   ]
  },
  {
   "cell_type": "code",
   "execution_count": 9,
   "id": "c696a5e6-857f-447f-8a91-49843d1aff49",
   "metadata": {},
   "outputs": [
    {
     "data": {
      "text/html": [
       "<div>\n",
       "<style scoped>\n",
       "    .dataframe tbody tr th:only-of-type {\n",
       "        vertical-align: middle;\n",
       "    }\n",
       "\n",
       "    .dataframe tbody tr th {\n",
       "        vertical-align: top;\n",
       "    }\n",
       "\n",
       "    .dataframe thead th {\n",
       "        text-align: right;\n",
       "    }\n",
       "</style>\n",
       "<table border=\"1\" class=\"dataframe\">\n",
       "  <thead>\n",
       "    <tr style=\"text-align: right;\">\n",
       "      <th></th>\n",
       "      <th>alcohol</th>\n",
       "      <th>quality</th>\n",
       "    </tr>\n",
       "  </thead>\n",
       "  <tbody>\n",
       "    <tr>\n",
       "      <th>0</th>\n",
       "      <td>8.8</td>\n",
       "      <td>6</td>\n",
       "    </tr>\n",
       "    <tr>\n",
       "      <th>1</th>\n",
       "      <td>9.5</td>\n",
       "      <td>6</td>\n",
       "    </tr>\n",
       "    <tr>\n",
       "      <th>2</th>\n",
       "      <td>10.1</td>\n",
       "      <td>6</td>\n",
       "    </tr>\n",
       "    <tr>\n",
       "      <th>3</th>\n",
       "      <td>9.9</td>\n",
       "      <td>6</td>\n",
       "    </tr>\n",
       "    <tr>\n",
       "      <th>4</th>\n",
       "      <td>9.9</td>\n",
       "      <td>6</td>\n",
       "    </tr>\n",
       "    <tr>\n",
       "      <th>...</th>\n",
       "      <td>...</td>\n",
       "      <td>...</td>\n",
       "    </tr>\n",
       "    <tr>\n",
       "      <th>4893</th>\n",
       "      <td>11.2</td>\n",
       "      <td>6</td>\n",
       "    </tr>\n",
       "    <tr>\n",
       "      <th>4894</th>\n",
       "      <td>9.6</td>\n",
       "      <td>5</td>\n",
       "    </tr>\n",
       "    <tr>\n",
       "      <th>4895</th>\n",
       "      <td>9.4</td>\n",
       "      <td>6</td>\n",
       "    </tr>\n",
       "    <tr>\n",
       "      <th>4896</th>\n",
       "      <td>12.8</td>\n",
       "      <td>7</td>\n",
       "    </tr>\n",
       "    <tr>\n",
       "      <th>4897</th>\n",
       "      <td>11.8</td>\n",
       "      <td>6</td>\n",
       "    </tr>\n",
       "  </tbody>\n",
       "</table>\n",
       "<p>4898 rows × 2 columns</p>\n",
       "</div>"
      ],
      "text/plain": [
       "      alcohol  quality\n",
       "0         8.8        6\n",
       "1         9.5        6\n",
       "2        10.1        6\n",
       "3         9.9        6\n",
       "4         9.9        6\n",
       "...       ...      ...\n",
       "4893     11.2        6\n",
       "4894      9.6        5\n",
       "4895      9.4        6\n",
       "4896     12.8        7\n",
       "4897     11.8        6\n",
       "\n",
       "[4898 rows x 2 columns]"
      ]
     },
     "execution_count": 9,
     "metadata": {},
     "output_type": "execute_result"
    }
   ],
   "source": [
    "#read csv\n",
    "df = pd.read_csv('winequality-white.csv', delimiter=';')\n",
    "#copy to ln_df make sure we don't change the orginal dataframe\n",
    "ln_df = df[['alcohol','quality']].copy()\n",
    "ln_df"
   ]
  },
  {
   "cell_type": "code",
   "execution_count": 10,
   "id": "d1e855f4-1c29-4d45-a277-ae712ebe7459",
   "metadata": {},
   "outputs": [
    {
     "name": "stdout",
     "output_type": "stream",
     "text": [
      "4898\n"
     ]
    }
   ],
   "source": [
    "#size of all data\n",
    "print(len(ln_df))"
   ]
  },
  {
   "cell_type": "code",
   "execution_count": 13,
   "id": "d37741e2-27d5-447b-b8b9-bf49f28ca62b",
   "metadata": {},
   "outputs": [
    {
     "data": {
      "text/plain": [
       "RangeIndex(start=0, stop=4898, step=1)"
      ]
     },
     "execution_count": 13,
     "metadata": {},
     "output_type": "execute_result"
    }
   ],
   "source": [
    "ln_df.index"
   ]
  },
  {
   "cell_type": "code",
   "execution_count": 48,
   "id": "62ef258d-2b17-44be-a652-2c84742b64ed",
   "metadata": {},
   "outputs": [
    {
     "data": {
      "text/plain": [
       "Index([1023, 3697, 2838, 4717, 2196,  789,  104,  788, 2511,  943,\n",
       "       ...\n",
       "       1607, 2420, 2379, 2841, 1745, 3192, 1260, 3365, 3283, 3464],\n",
       "      dtype='int64', length=1224)"
      ]
     },
     "execution_count": 48,
     "metadata": {},
     "output_type": "execute_result"
    }
   ],
   "source": [
    "#create dataframe containing random sample from lin_df row  that take 25% for test\n",
    "ln_holdout = ln_df.sample(frac=0.25)\n",
    "ln_holdout.index"
   ]
  },
  {
   "cell_type": "code",
   "execution_count": 51,
   "id": "9dffc809-570b-4abd-9f90-b5cdd7089292",
   "metadata": {},
   "outputs": [
    {
     "data": {
      "text/plain": [
       "Index([   0,    1,    2,    4,    5,    6,    7,    8,    9,   11,\n",
       "       ...\n",
       "       4880, 4881, 4883, 4885, 4887, 4889, 4890, 4893, 4896, 4897],\n",
       "      dtype='int64', length=3674)"
      ]
     },
     "execution_count": 51,
     "metadata": {},
     "output_type": "execute_result"
    }
   ],
   "source": [
    "#take the rest\n",
    "ln_training = ln_df.loc[~ln_df.index.isin(ln_holdout.index)]\n",
    "ln_training.index"
   ]
  },
  {
   "cell_type": "code",
   "execution_count": null,
   "id": "45790e2f-2010-4c7c-993f-8e6f1475d60b",
   "metadata": {},
   "outputs": [],
   "source": []
  }
 ],
 "metadata": {
  "kernelspec": {
   "display_name": "Python 3 (ipykernel)",
   "language": "python",
   "name": "python3"
  },
  "language_info": {
   "codemirror_mode": {
    "name": "ipython",
    "version": 3
   },
   "file_extension": ".py",
   "mimetype": "text/x-python",
   "name": "python",
   "nbconvert_exporter": "python",
   "pygments_lexer": "ipython3",
   "version": "3.11.7"
  }
 },
 "nbformat": 4,
 "nbformat_minor": 5
}
