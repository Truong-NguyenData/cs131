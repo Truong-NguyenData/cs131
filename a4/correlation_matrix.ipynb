{
 "cells": [
  {
   "cell_type": "code",
   "execution_count": 1,
   "id": "df19556b-daab-4d19-88b1-f616b4872eed",
   "metadata": {},
   "outputs": [],
   "source": [
    "import pandas as pd\n",
    "\n",
    "df = pd.read_csv('winequality-white.csv', delimiter = \";\")"
   ]
  },
  {
   "cell_type": "code",
   "execution_count": 9,
   "id": "7f0bb4d1-a2a9-41c9-bdde-fbfce57a0b83",
   "metadata": {},
   "outputs": [
    {
     "name": "stdout",
     "output_type": "stream",
     "text": [
      "                      fixed acidity  volatile acidity  ...   alcohol   quality\n",
      "fixed acidity              1.000000         -0.022697  ... -0.120881 -0.113663\n",
      "volatile acidity          -0.022697          1.000000  ...  0.067718 -0.194723\n",
      "citric acid                0.289181         -0.149472  ... -0.075729 -0.009209\n",
      "residual sugar             0.089021          0.064286  ... -0.450631 -0.097577\n",
      "chlorides                  0.023086          0.070512  ... -0.360189 -0.209934\n",
      "free sulfur dioxide       -0.049396         -0.097012  ... -0.250104  0.008158\n",
      "total sulfur dioxide       0.091070          0.089261  ... -0.448892 -0.174737\n",
      "density                    0.265331          0.027114  ... -0.780138 -0.307123\n",
      "pH                        -0.425858         -0.031915  ...  0.121432  0.099427\n",
      "sulphates                 -0.017143         -0.035728  ... -0.017433  0.053678\n",
      "alcohol                   -0.120881          0.067718  ...  1.000000  0.435575\n",
      "quality                   -0.113663         -0.194723  ...  0.435575  1.000000\n",
      "\n",
      "[12 rows x 12 columns]\n"
     ]
    }
   ],
   "source": [
    "print(df.corr())"
   ]
  },
  {
   "cell_type": "code",
   "execution_count": 8,
   "id": "3d874a86-23eb-47e9-bc34-e1c6ae8bb8a9",
   "metadata": {
    "scrolled": true
   },
   "outputs": [
    {
     "name": "stdout",
     "output_type": "stream",
     "text": [
      "fixed acidity           1.000000\n",
      "volatile acidity       -0.022697\n",
      "citric acid             0.289181\n",
      "residual sugar          0.089021\n",
      "chlorides               0.023086\n",
      "free sulfur dioxide    -0.049396\n",
      "total sulfur dioxide    0.091070\n",
      "density                 0.265331\n",
      "pH                     -0.425858\n",
      "sulphates              -0.017143\n",
      "alcohol                -0.120881\n",
      "quality                -0.113663\n",
      "dtype: float64\n"
     ]
    }
   ],
   "source": [
    "print(df.corrwith(df['fixed acidity']))"
   ]
  },
  {
   "cell_type": "code",
   "execution_count": 11,
   "id": "a8501523-517a-4313-974b-272fc8a6bbf2",
   "metadata": {},
   "outputs": [
    {
     "name": "stdout",
     "output_type": "stream",
     "text": [
      "fixed acidity          -0.022697\n",
      "volatile acidity        1.000000\n",
      "citric acid            -0.149472\n",
      "residual sugar          0.064286\n",
      "chlorides               0.070512\n",
      "free sulfur dioxide    -0.097012\n",
      "total sulfur dioxide    0.089261\n",
      "density                 0.027114\n",
      "pH                     -0.031915\n",
      "sulphates              -0.035728\n",
      "alcohol                 0.067718\n",
      "quality                -0.194723\n",
      "dtype: float64\n"
     ]
    }
   ],
   "source": [
    "print(df.corrwith(df['volatile acidity']))"
   ]
  },
  {
   "cell_type": "code",
   "execution_count": 12,
   "id": "f7789e4d-7b76-4bcd-80d5-d7e121de922a",
   "metadata": {},
   "outputs": [
    {
     "name": "stdout",
     "output_type": "stream",
     "text": [
      "fixed acidity           0.289181\n",
      "volatile acidity       -0.149472\n",
      "citric acid             1.000000\n",
      "residual sugar          0.094212\n",
      "chlorides               0.114364\n",
      "free sulfur dioxide     0.094077\n",
      "total sulfur dioxide    0.121131\n",
      "density                 0.149503\n",
      "pH                     -0.163748\n",
      "sulphates               0.062331\n",
      "alcohol                -0.075729\n",
      "quality                -0.009209\n",
      "dtype: float64\n"
     ]
    }
   ],
   "source": [
    "print(df.corrwith(df['citric acid']))"
   ]
  },
  {
   "cell_type": "code",
   "execution_count": 13,
   "id": "d1ff3f63-2b26-4913-8905-129b05659fe7",
   "metadata": {},
   "outputs": [
    {
     "name": "stdout",
     "output_type": "stream",
     "text": [
      "fixed acidity           0.089021\n",
      "volatile acidity        0.064286\n",
      "citric acid             0.094212\n",
      "residual sugar          1.000000\n",
      "chlorides               0.088685\n",
      "free sulfur dioxide     0.299098\n",
      "total sulfur dioxide    0.401439\n",
      "density                 0.838966\n",
      "pH                     -0.194133\n",
      "sulphates              -0.026664\n",
      "alcohol                -0.450631\n",
      "quality                -0.097577\n",
      "dtype: float64\n"
     ]
    }
   ],
   "source": [
    "print(df.corrwith(df['residual sugar']))"
   ]
  },
  {
   "cell_type": "code",
   "execution_count": 14,
   "id": "d5fe88ae-75ee-4925-822b-a39d03d37ebf",
   "metadata": {},
   "outputs": [
    {
     "name": "stdout",
     "output_type": "stream",
     "text": [
      "fixed acidity           0.023086\n",
      "volatile acidity        0.070512\n",
      "citric acid             0.114364\n",
      "residual sugar          0.088685\n",
      "chlorides               1.000000\n",
      "free sulfur dioxide     0.101392\n",
      "total sulfur dioxide    0.198910\n",
      "density                 0.257211\n",
      "pH                     -0.090439\n",
      "sulphates               0.016763\n",
      "alcohol                -0.360189\n",
      "quality                -0.209934\n",
      "dtype: float64\n"
     ]
    }
   ],
   "source": [
    "print(df.corrwith(df['chlorides']))"
   ]
  },
  {
   "cell_type": "code",
   "execution_count": 15,
   "id": "bc8402df-e661-458e-8fee-a3f1d6a5f7e5",
   "metadata": {},
   "outputs": [
    {
     "name": "stdout",
     "output_type": "stream",
     "text": [
      "fixed acidity          -0.049396\n",
      "volatile acidity       -0.097012\n",
      "citric acid             0.094077\n",
      "residual sugar          0.299098\n",
      "chlorides               0.101392\n",
      "free sulfur dioxide     1.000000\n",
      "total sulfur dioxide    0.615501\n",
      "density                 0.294210\n",
      "pH                     -0.000618\n",
      "sulphates               0.059217\n",
      "alcohol                -0.250104\n",
      "quality                 0.008158\n",
      "dtype: float64\n"
     ]
    }
   ],
   "source": [
    "print(df.corrwith(df['free sulfur dioxide']))"
   ]
  },
  {
   "cell_type": "code",
   "execution_count": 16,
   "id": "639838f5-b376-47ac-b91a-a06089a40edc",
   "metadata": {},
   "outputs": [
    {
     "name": "stdout",
     "output_type": "stream",
     "text": [
      "fixed acidity           0.091070\n",
      "volatile acidity        0.089261\n",
      "citric acid             0.121131\n",
      "residual sugar          0.401439\n",
      "chlorides               0.198910\n",
      "free sulfur dioxide     0.615501\n",
      "total sulfur dioxide    1.000000\n",
      "density                 0.529881\n",
      "pH                      0.002321\n",
      "sulphates               0.134562\n",
      "alcohol                -0.448892\n",
      "quality                -0.174737\n",
      "dtype: float64\n"
     ]
    }
   ],
   "source": [
    "print(df.corrwith(df['total sulfur dioxide']))"
   ]
  },
  {
   "cell_type": "code",
   "execution_count": 19,
   "id": "4b73f255-8efa-47d0-9a24-077fa2ab6200",
   "metadata": {},
   "outputs": [
    {
     "name": "stdout",
     "output_type": "stream",
     "text": [
      "fixed acidity           0.265331\n",
      "volatile acidity        0.027114\n",
      "citric acid             0.149503\n",
      "residual sugar          0.838966\n",
      "chlorides               0.257211\n",
      "free sulfur dioxide     0.294210\n",
      "total sulfur dioxide    0.529881\n",
      "density                 1.000000\n",
      "pH                     -0.093591\n",
      "sulphates               0.074493\n",
      "alcohol                -0.780138\n",
      "quality                -0.307123\n",
      "dtype: float64\n"
     ]
    }
   ],
   "source": [
    "print(df.corrwith(df['density']))"
   ]
  },
  {
   "cell_type": "code",
   "execution_count": 20,
   "id": "9f018e37-3037-498d-9ffe-0584c999f04f",
   "metadata": {},
   "outputs": [
    {
     "name": "stdout",
     "output_type": "stream",
     "text": [
      "fixed acidity          -0.425858\n",
      "volatile acidity       -0.031915\n",
      "citric acid            -0.163748\n",
      "residual sugar         -0.194133\n",
      "chlorides              -0.090439\n",
      "free sulfur dioxide    -0.000618\n",
      "total sulfur dioxide    0.002321\n",
      "density                -0.093591\n",
      "pH                      1.000000\n",
      "sulphates               0.155951\n",
      "alcohol                 0.121432\n",
      "quality                 0.099427\n",
      "dtype: float64\n"
     ]
    }
   ],
   "source": [
    "print(df.corrwith(df['pH']))"
   ]
  },
  {
   "cell_type": "code",
   "execution_count": 21,
   "id": "5ea26464-9f7e-4c1c-8f81-eae85e30d1ee",
   "metadata": {},
   "outputs": [
    {
     "name": "stdout",
     "output_type": "stream",
     "text": [
      "fixed acidity          -0.017143\n",
      "volatile acidity       -0.035728\n",
      "citric acid             0.062331\n",
      "residual sugar         -0.026664\n",
      "chlorides               0.016763\n",
      "free sulfur dioxide     0.059217\n",
      "total sulfur dioxide    0.134562\n",
      "density                 0.074493\n",
      "pH                      0.155951\n",
      "sulphates               1.000000\n",
      "alcohol                -0.017433\n",
      "quality                 0.053678\n",
      "dtype: float64\n"
     ]
    }
   ],
   "source": [
    "print(df.corrwith(df['sulphates']))"
   ]
  },
  {
   "cell_type": "code",
   "execution_count": 23,
   "id": "2ea95273-a79d-49b8-a117-7d8a6b449ff9",
   "metadata": {},
   "outputs": [
    {
     "name": "stdout",
     "output_type": "stream",
     "text": [
      "fixed acidity          -0.120881\n",
      "volatile acidity        0.067718\n",
      "citric acid            -0.075729\n",
      "residual sugar         -0.450631\n",
      "chlorides              -0.360189\n",
      "free sulfur dioxide    -0.250104\n",
      "total sulfur dioxide   -0.448892\n",
      "density                -0.780138\n",
      "pH                      0.121432\n",
      "sulphates              -0.017433\n",
      "alcohol                 1.000000\n",
      "quality                 0.435575\n",
      "dtype: float64\n"
     ]
    }
   ],
   "source": [
    "print(df.corrwith(df['alcohol']))"
   ]
  },
  {
   "cell_type": "code",
   "execution_count": 26,
   "id": "b5e273d1-b492-4721-903f-d318a6bcfd35",
   "metadata": {},
   "outputs": [
    {
     "name": "stdout",
     "output_type": "stream",
     "text": [
      "fixed acidity          -0.113663\n",
      "volatile acidity       -0.194723\n",
      "citric acid            -0.009209\n",
      "residual sugar         -0.097577\n",
      "chlorides              -0.209934\n",
      "free sulfur dioxide     0.008158\n",
      "total sulfur dioxide   -0.174737\n",
      "density                -0.307123\n",
      "pH                      0.099427\n",
      "sulphates               0.053678\n",
      "alcohol                 0.435575\n",
      "quality                 1.000000\n",
      "dtype: float64\n"
     ]
    }
   ],
   "source": [
    "print(df.corrwith(df['quality']))"
   ]
  }
 ],
 "metadata": {
  "kernelspec": {
   "display_name": "Python 3 (ipykernel)",
   "language": "python",
   "name": "python3"
  },
  "language_info": {
   "codemirror_mode": {
    "name": "ipython",
    "version": 3
   },
   "file_extension": ".py",
   "mimetype": "text/x-python",
   "name": "python",
   "nbconvert_exporter": "python",
   "pygments_lexer": "ipython3",
   "version": "3.11.7"
  }
 },
 "nbformat": 4,
 "nbformat_minor": 5
}
